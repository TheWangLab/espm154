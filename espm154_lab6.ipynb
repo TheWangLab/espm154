{
 "cells": [
  {
   "cell_type": "markdown",
   "metadata": {},
   "source": [
    "# Introduction to evolutionary simulations with Geonomics (Part 2)\n",
    "\n",
    "This is the second part of an introduction to evolutionary simulations with Geonomics. In this part, we will be running simulations of natural selection and then you will create and run your own simulations. As a reminder, *Geonomics* allows the user to test hypotheses and run simulations about how the spatial arrangement and size of populations of organisms while incorporating any realistic or modeled geospatial **layers** of a landscape. The so-called forces of evolution can all be simulated: mutation, natural selection, founder effects, genetic drift, and gene-flow. The result is a very flexible platform to allow prediction of evolutionary outcomes across space."
   ]
  },
  {
   "cell_type": "markdown",
   "metadata": {},
   "source": [
    "# Glossary\n",
    "\n",
    "**A glossary of key terms and concepts is available here [Geonomics Glossary Google Doc](https://docs.google.com/document/d/133njF4NFe2SH5zSASTnObL5wGRp3RalnkFM6Aih-Wf0/edit?usp=sharing)\n",
    "\n",
    "\n"
   ]
  },
  {
   "cell_type": "markdown",
   "metadata": {
    "jp-MarkdownHeadingCollapsed": true
   },
   "source": [
    "## Important notes: \n",
    "\n",
    "*Please don't be overwhelmed by the length of the code blocks in this notebook.* We intentionally left the code for you to see -- and exercises for you to modify the code -- so that you can think about the different parameters than need to be defined to construct a somewhat realistic evolutionary simulation.\n",
    "\n",
    "You need to read the **text cells** carefully and follow the instructions. Some **code cells** you will *run without changing*. Other times you will need to *edit the cells as instructed* to adjust the parameters of the model so we can simulate different scenarios. Reading the green `# comments` in Geonomics code will help to understand what you are actually doing during model set-up,  running of the model, and model results evaluation, and for **creating your own scenario** at the end. It is not necessary for you to read all of the `# comments` or code during this Notebook, this is what a user of the Geonomics package will refer to while running their simulations. We will also make use of **functions** which are blocks of code that perform a task (you do not need to edit or make your own functions)."
   ]
  },
  {
   "cell_type": "markdown",
   "metadata": {},
   "source": [
    "## Helpful Reminders: \n",
    "\n",
    "### Jupyter notebooks\n",
    "When a cell is running the circle in the top right of the notebook next to Python 3 will be solid grey. Some cells take several seconds to run. Just be patient.\n",
    "\n",
    "\n",
    "### Text cells\n",
    "In a notebook, each rectangle containing text or code is called a *cell*.\n",
    "\n",
    "Text cells (like this one) can be edited by double-clicking on them. They're written in a simple format called [Markdown](http://daringfireball.net/projects/markdown/syntax) to add formatting and section headings.  You don't need to learn Markdown, but you might want to.\n",
    "\n",
    "After you edit a text cell, click the \"run cell\" button at the top to confirm any changes. (Try not to delete the instructions of the lab.)\n",
    "\n",
    "### Code cells\n",
    "Other cells contain code in the Python 3 language. Running a code cell will execute all of the code it contains.\n",
    "\n",
    "To run the code in a code cell, first click on that cell to activate it.  It'll be highlighted with a little green or blue rectangle.  Next, either press the Run button or hold down the `shift` key and press `return` or `enter`.\n",
    "\n",
    "The only code cells that need to be modified are right below a blue exercise box.\n",
    "\n",
    "### Comments\n",
    "Comments are statements in English that the computer ignores. We use comments to explain what the surrounding code does. Comments appear in green after the `#` symbol."
   ]
  },
  {
   "cell_type": "markdown",
   "metadata": {
    "jp-MarkdownHeadingCollapsed": true
   },
   "source": [
    "<div class=\"alert alert-info\" role=\"alert\" style=\"font-size:120%\">\n",
    "  \n",
    "**Agenda**:\n",
    "<ul>\n",
    "    <li>1. run a simulation of natural selection to a heterogeneous environment</li>\n",
    "    <li>2. create and run your own model scenario</li>\n",
    "</ul>\n",
    "\n",
    "<p>\n",
    "\n",
    "</p>\n",
    "</div>"
   ]
  },
  {
   "cell_type": "markdown",
   "metadata": {},
   "source": [
    "### Okay! Now on to the code!"
   ]
  },
  {
   "cell_type": "markdown",
   "metadata": {},
   "source": [
    "<div class=\"alert alert-warning\" role=\"alert\" style=\"font-size:120%\">\n",
    "    <b><h2>Import needed packages</h2></b> "
   ]
  },
  {
   "cell_type": "markdown",
   "metadata": {},
   "source": [
    "Run the following cell to bring in the necessary Python packages for our exercise today. Recall that you need to run this cell and any cells above the one you are working on each time you relaunch the notebook."
   ]
  },
  {
   "cell_type": "code",
   "execution_count": 136,
   "metadata": {},
   "outputs": [],
   "source": [
    "import geonomics as gnx\n",
    "import numpy as np\n",
    "import matplotlib.pyplot as plt\n",
    "import nlmpy as nlmpy\n",
    "\n",
    "# and also set Matplotlib's default plotting style and plot size\n",
    "%matplotlib inline\n",
    "plt.rcParams[\"figure.figsize\"] = (9,4)"
   ]
  },
  {
   "cell_type": "markdown",
   "metadata": {},
   "source": [
    "<div class=\"alert alert-warning\" role=\"alert\" style=\"font-size:120%\">\n",
    "    <b><h2>Define some helper functions</h2></b> "
   ]
  },
  {
   "cell_type": "markdown",
   "metadata": {},
   "source": [
    "Here we will define some functions to create simple, geometric arrays, which we'll use as landscapes for our simulations.\n",
    "\n",
    "__No need to alter the code here.__ Just run it. We'll use the functions below."
   ]
  },
  {
   "cell_type": "code",
   "execution_count": 137,
   "metadata": {},
   "outputs": [],
   "source": [
    "################################\n",
    "# RUN THIS CODE WITHOUT CHANGING\n",
    "################################\n",
    "\n",
    "def make_unif_array(n):\n",
    "    \"\"\"Makes a square array of ones, size n x n cells.\"\"\"\n",
    "    array = np.ones((n,n))\n",
    "    return array\n",
    "\n",
    "def add_vert_barrier(array, width = 5):\n",
    "    \"\"\"Returns a new array, which is the input array but with an added vertical barrier of the defined width.\"\"\"\n",
    "    if array.shape[0] % 2 != width % 2:\n",
    "        width += 1\n",
    "    assert width <= array.shape[0] - 2, (\"The width of the barrier should be \"\n",
    "                                       \"at least 2 less than the width of the landscape.\")\n",
    "    left_extent = int((array.shape[0] - width)/2)\n",
    "    right_extent = left_extent + width\n",
    "    new_array = np.copy(array)\n",
    "    new_array[:, left_extent:right_extent] = 0\n",
    "    return new_array\n",
    "\n",
    "def make_horz_grad_array(n, grad_width=8):\n",
    "    \"\"\"Makes a square array with a horizontal gradient\n",
    "    running from 0 to 1, size n x n cells.\"\"\"\n",
    "    assert grad_width <= n, \"Argument 'grad_width' must be <= argument 'n'.\"\n",
    "    if n % 2 != grad_width % 2:\n",
    "        grad_width += 1\n",
    "    grad_vals = np.linspace(0, 1, grad_width)\n",
    "    append_len = int((n - grad_width) / 2)\n",
    "    grad_vals = np.hstack([np.zeros((append_len)), grad_vals, np.ones((append_len))])\n",
    "    array = np.vstack([grad_vals.T]*n)\n",
    "    return array\n",
    "\n",
    "# function for running and plotting genetic PCA\n",
    "def plot_PCA(mod):\n",
    "    from copy import deepcopy\n",
    "    from sklearn.decomposition import PCA\n",
    "    figsize = 6\n",
    "    species = mod.comm[0]\n",
    "    # get array of resulting genomic data (i.e. 'speciome'),\n",
    "    # genotypes averaged by individual\n",
    "    speciome = np.mean(species._get_genotypes(), axis=2)\n",
    "    # run PCA on speciome\n",
    "    pca = PCA(n_components=2)\n",
    "    PCs = pca.fit_transform(speciome)\n",
    "    # normalize the PC results\n",
    "    norm_PCs = (PCs - np.min(PCs,\n",
    "                             axis=0)) / (np.max(PCs,\n",
    "                                                axis=0) - np.min(PCs,\n",
    "                                                                 axis=0))\n",
    "    # assign a value to each species, 0 or 1, indicating whether they're located on\n",
    "    # the left or right vertical half of the landscape\n",
    "    ind_colors = ['#00ffff' if ind.x < mod.land.dim[0]/2 else '#ff00ff' for ind in species.values()]\n",
    "    # plot individuals on PCs 1 and 2, colored by their landscape half\n",
    "    fig = plt.figure(figsize=(figsize, figsize), dpi= 80, facecolor='w', edgecolor='k')\n",
    "    plt.scatter(norm_PCs[:,0], norm_PCs[:, 1], color = ind_colors)\n",
    "    plt.xlabel('genetic PC 1')\n",
    "    plt.ylabel('genetic PC 2')\n",
    "    \n",
    "# function for running and plotting genetic PCA\n",
    "def map_PCA(mod, lyr_num=0, mask=True):\n",
    "    from copy import deepcopy\n",
    "    from sklearn.decomposition import PCA\n",
    "    cmaps = {0: plt.cm.RdBu.copy(), 1: plt.cm.BrBG_r.copy()}\n",
    "    mark_size = 60\n",
    "    figsize = 8\n",
    "    species = mod.comm[0]\n",
    "    land = mod.land\n",
    "    # get array of resulting genomic data (i.e. 'speciome'),\n",
    "    # genotypes meaned by individual\n",
    "    speciome = np.mean(species._get_genotypes(), axis=2)\n",
    "    # run PCA on speciome\n",
    "    pca = PCA(n_components=3)\n",
    "    PCs = pca.fit_transform(speciome)\n",
    "    # normalize the PC results\n",
    "    norm_PCs = (PCs - np.min(PCs,\n",
    "                             axis=0)) / (np.max(PCs,\n",
    "                                                axis=0) - np.min(PCs,\n",
    "                                                                 axis=0))\n",
    "    # use first 3 PCs to get normalized values for R, G, & B colors\n",
    "    PC_colors = norm_PCs * 255\n",
    "    # scatter all individuals on top of landscape, colored by the\n",
    "    # RBG colors developed from the first 3 geonmic PCs\n",
    "    xs = mod.comm[0]._get_x()\n",
    "    ys = mod.comm[0]._get_y()\n",
    "    # get environmental raster, with barrier masked out\n",
    "    env = deepcopy(mod.land[lyr_num].rast)\n",
    "    if mask:\n",
    "        env[mod.land[lyr_num].rast == 0] = np.nan\n",
    "    # create light colormap for plotting landscape\n",
    "    # bot = plt.cm.get_cmap('Blues', 256)(np.linspace(0.4, 0.45, 2))[0]\n",
    "    # top = plt.cm.get_cmap('Reds', 256)(np.linspace(0.4, 0.45, 2))[0]\n",
    "    # cols = np.vstack((top, bot))\n",
    "    # cmap = mpl.colors.ListedColormap(cols, name='OrangeBlue')\n",
    "    cmap = cmaps[lyr_num]\n",
    "    cmap.set_bad(color='#8C8C8C')\n",
    "    # plot landscape\n",
    "    fig = plt.figure(figsize=(figsize, figsize), dpi= 80, facecolor='w', edgecolor='k')\n",
    "    # plt.imshow(masked_env, cmap=cmap, alpha=0.8)\n",
    "    plt.pcolormesh(land._x_cell_bds, land._y_cell_bds, env, cmap=cmap)\n",
    "    # scatter plot of individuals, colored by composite PC score\n",
    "    plt.scatter(xs, ys, c=PC_colors/255.0, s=mark_size, edgecolors='black')\n",
    "    # fix x and y limits\n",
    "    [f([dim - 0.5 for dim in (0, mod.land.dim[0])]) for f in (plt.xlim,\n",
    "                                                              plt.ylim)]\n",
    "    # get rid of x and y ticks\n",
    "    [f([]) for f in (plt.xticks, plt.yticks)]\n",
    "\n"
   ]
  },
  {
   "cell_type": "markdown",
   "metadata": {},
   "source": [
    "<div class=\"alert alert-danger\" role=\"alert\" style=\"font-size:120%\">\n",
    "    <b><h2>Part 1: Natural Selection</h2></b> "
   ]
  },
  {
   "cell_type": "markdown",
   "metadata": {},
   "source": [
    "**Natural selection occurs because**:\n",
    "1. Individuals vary phenotypically.\n",
    "2. The phenotypic variation has some genotypic underpinning.\n",
    "3. Genotypic variations are heritable.\n",
    "4. Variation among individuals makes some more likely to survive and reproduce than others (i.e. more fit).\n",
    "5. More fit individuals pass on their genes more often.\n",
    "6. Over time, this changes the genetic and phenotypic composition of a population and, thus, of a species.\n",
    "\n",
    "Geonomics will simulate that process - in space! As you're watching these simulations, keep in mind the concepts you explored in the previous labs about gene flow and genetic drift. Those things still happen in this model, but natural selection adds an extra level of complexity. It can change the probability that certain genes move and persist on the landscape and, thus, the nature of isolation between different neighborhoods on the landscape.\n",
    "\n",
    "The code in the following cells is very similar to what we saw in the first section. As before, run the code, changing any values as directed.\n"
   ]
  },
  {
   "cell_type": "markdown",
   "metadata": {},
   "source": [
    "<div class=\"alert alert-warning\" role=\"alert\" style=\"font-size:120%\">\n",
    "    <b><h2>Set the parameter values</h2></b> "
   ]
  },
  {
   "cell_type": "markdown",
   "metadata": {},
   "source": [
    "This time, we'll create a model with <u>__two landscape layers__</u>:\n",
    "\n",
    "1. A layer to describe the __habitat configuration__, which will determine both the species' local population density and its movement throughout the landscape. For the sake of simplicity, we will use a uniform layer for these simulations.\n",
    "    \n",
    "2. A layer to describe an __environmental gradient__ across the landscape, which will exert divergent selection on the species. We will use a linear gradient for these simulations.\n",
    "    \n",
    "We again want a model with a <u>__single species__</u>, but this time that species will have __one trait__. Each individual's phenotype for this trait will determined by its genotype at the genetic loci that underlie the trait, and its probability of survival will be determined by the difference between that phenotype and the optimal phenotype at the individual's location, according to the environmental gradient layer. Thus, the environmental gradient will exert divergent natural selection on this trait (selection for different phenotypes in different places).\n",
    "\n",
    "We will simulate a single mouse species that will have a single trait: color. For the sake of simplicity, our mice have a single gene that controls color, which has three variations - white, green, and brown.  The second layer of our model defines the ground color across our landscape: one side is green, one side is brown, and the middle is white.  Mice survive best when their color matches the ground color. i.e. Green mice are favored on green ground, white mice are favored on white ground, and brown mice are favored on brown ground.  This is selective pressure.  In the simulation model we can define how strong this pressure is.  Those individuals that are best adapted to their location will survive longer and have more offspring, so the variations in the landscape are critical.\n"
   ]
  },
  {
   "cell_type": "markdown",
   "metadata": {},
   "source": [
    "To accomplish all of that, we have changed the following parameter values (Reminder: you do not need to make any changes to the code, these definitions are to help you understand all the parameters of the model):\n",
    "\n",
    "- **rast** parameter in the __'lyr_0'__ section: *We set this to a uniform raster, using __`make_unif_array(40)`__*.\n",
    "\n",
    "- **rast** parameter in the __'lyr_1'__ section: *We set this to a horizontal gradient, using __`make_horz_grad_array(40)`__*\n",
    "\n",
    "- **layer** parameter in the __'trait_0'__ section: *We set this to __`'lyr_1'`__, to indicate that layer 1 should serve as trait 0's selective force*\n"
   ]
  },
  {
   "cell_type": "code",
   "execution_count": 138,
   "metadata": {},
   "outputs": [],
   "source": [
    "# selection_demo.py\n",
    "\n",
    "# This is a parameters file generated by Geonomics\n",
    "# (by the gnx.make_parameters_file() function).\n",
    "\n",
    "\n",
    "                   #   ::::::          :::    :: :::::::::::#\n",
    "             #::::::    ::::   :::      ::    :: :: ::::::::::: ::#\n",
    "          #:::::::::     ::            ::   :::::::::::::::::::::::::#\n",
    "        #::::::::::                      :::::::::: :::::: ::::::::  ::#\n",
    "      #  : ::::  ::                    ::::  : ::    :::::::: : ::  :    #\n",
    "     # GGGGG :EEEE: OOOOO   NN   NN   OOOOO   MM   MM IIIIII  CCCCC SSSSS #\n",
    "    # GG     EE    OO   OO  NNN  NN  OO   OO  MM   MM   II   CC     SS     #\n",
    "    # GG     EE   OO     OO NN N NN OO     OO MMM MMM   II   CC     SSSSSS #\n",
    "    # GG GGG EEEE OO     OO NN  NNN OO     OO MM M MM   II   CC         SS #\n",
    "    # GG   G EE    OO   OO  NN   NN  OO   OO  MM   MM   II   CC        SSS #\n",
    "     # GGGGG :EEEE: OOOOO   NN   NN   OOOOO   MM   MM IIIIII  CCCCC SSSSS #\n",
    "      #    : ::::::::               :::::::::: ::              ::  :   : #\n",
    "        #:    :::::                    :::::: :::             :::::::  #\n",
    "          #    :::                      :::::  ::              ::::: #\n",
    "             #  ::                      ::::                      #\n",
    "                   #                                        #\n",
    "                      #  :: ::    :::             #\n",
    "\n",
    "\n",
    "params = {\n",
    "#--------------------------------------------------------------------------#\n",
    "\n",
    "#-----------------#\n",
    "#--- LANDSCAPE ---#\n",
    "#-----------------#\n",
    "    'landscape': {\n",
    "\n",
    "    #------------#\n",
    "    #--- main ---#\n",
    "    #------------#\n",
    "        'main': {\n",
    "            #x,y (a.k.a. j,i) dimensions of the Landscape\n",
    "            'dim':                      (40,40),\n",
    "            #x,y resolution of the Landscape\n",
    "            'res':                      (1,1),\n",
    "            #x,y coords of upper-left corner of the Landscape\n",
    "            'ulc':                      (0,0),\n",
    "            #projection of the Landscape\n",
    "            'prj':                      None,\n",
    "            }, # <END> 'main'\n",
    "\n",
    "    #--------------#\n",
    "    #--- layers ---#\n",
    "    #--------------#\n",
    "        'layers': {\n",
    "\n",
    "            #layer name (LAYER NAMES MUST BE UNIQUE!)\n",
    "            'lyr_0': {\n",
    "\n",
    "        #-------------------------------------#\n",
    "        #--- layer num. 0: init parameters ---#\n",
    "        #-------------------------------------#\n",
    "\n",
    "                #initiating parameters for this layer\n",
    "                'init': {\n",
    "\n",
    "                    #parameters for a 'defined'-type Layer\n",
    "                    'defined': {\n",
    "                        #raster to use for the Layer\n",
    "                        'rast':                   make_unif_array(40),\n",
    "                        #point coordinates\n",
    "                        'pts':                    None,\n",
    "                        #point values\n",
    "                        'vals':                   None,\n",
    "                        #interpolation method {None, 'linear', 'cubic',\n",
    "                        #'nearest'}\n",
    "                        'interp_method':          None,\n",
    "\n",
    "                        }, # <END> 'defined'\n",
    "\n",
    "                    }, # <END> 'init'\n",
    "\n",
    "                }, # <END> layer num. 0\n",
    "\n",
    "\n",
    "            #layer name (LAYER NAMES MUST BE UNIQUE!)\n",
    "            'lyr_1': {\n",
    "\n",
    "        #-------------------------------------#\n",
    "        #--- layer num. 1: init parameters ---#\n",
    "        #-------------------------------------#\n",
    "\n",
    "                #initiating parameters for this layer\n",
    "                'init': {\n",
    "\n",
    "                    #parameters for a 'defined'-type Layer\n",
    "                    'defined': {\n",
    "                        #raster to use for the Layer\n",
    "                        'rast':                   make_horz_grad_array(40),\n",
    "                        #point coordinates\n",
    "                        'pts':                    None,\n",
    "                        #point values\n",
    "                        'vals':                   None,\n",
    "                        #interpolation method {None, 'linear', 'cubic',\n",
    "                        #'nearest'}\n",
    "                        'interp_method':          None,\n",
    "\n",
    "                        }, # <END> 'defined'\n",
    "\n",
    "                    }, # <END> 'init'\n",
    "\n",
    "                }, # <END> layer num. 1\n",
    "\n",
    "\n",
    "\n",
    "    #### NOTE: Individual Layers' sections can be copy-and-pasted (and\n",
    "    #### assigned distinct keys and names), to create additional Layers.\n",
    "\n",
    "\n",
    "            } # <END> 'layers'\n",
    "\n",
    "        }, # <END> 'landscape'\n",
    "\n",
    "\n",
    "#-------------------------------------------------------------------------#\n",
    "    \n",
    "#-----------------#\n",
    "#--- COMMUNITY ---#\n",
    "#-----------------#\n",
    "    'comm': {\n",
    "\n",
    "        'species': {\n",
    "\n",
    "            #species name (SPECIES NAMES MUST BE UNIQUE!)\n",
    "            'spp_0': {\n",
    "\n",
    "            #-----------------------------------#\n",
    "            #--- spp num. 0: init parameters ---#\n",
    "            #-----------------------------------#\n",
    "\n",
    "                'init': {\n",
    "                    #starting number of individs\n",
    "                    'N':                250,\n",
    "                    #carrying-capacity Layer name\n",
    "                    'K_layer':          'lyr_0',\n",
    "                    \n",
    "###########################################################################\n",
    "# CONSIDER CHANGING THIS PARAMETER                                        #\n",
    "                    #multiplicative factor for carrying-capacity layer    #\n",
    "                    'K_factor':         1,                                #\n",
    "###########################################################################\n",
    "                    \n",
    "                    }, # <END> 'init'\n",
    "\n",
    "            #-------------------------------------#\n",
    "            #--- spp num. 0: mating parameters ---#\n",
    "            #-------------------------------------#\n",
    "\n",
    "                'mating'    : {\n",
    "                    #age(s) at sexual maturity (if tuple, female first)\n",
    "                    'repro_age':                0,\n",
    "                    #whether to assign sexes\n",
    "                    'sex':                      False,\n",
    "                    #ratio of males to females\n",
    "                    'sex_ratio':                1/1,\n",
    "                    #whether P(birth) should be weighted by parental dist\n",
    "                    'dist_weighted_birth':       False,\n",
    "                    #intrinsic growth rate\n",
    "                    'R':                        0.5,\n",
    "                    #intrinsic birth rate (MUST BE 0<=b<=1)\n",
    "                    'b':                        0.2,\n",
    "                    #expectation of distr of n offspring per mating pair\n",
    "                    'n_births_distr_lambda':    1,\n",
    "                    #whether n births should be fixed at n_births_dist_lambda\n",
    "                    'n_births_fixed':           True,\n",
    "                    #whether individs should choose nearest neighs as mates\n",
    "                    'choose_nearest_mate':        False,\n",
    "                    #whether mate-choice should be inverse distance-weighted\n",
    "                    'inverse_dist_mating':      False,\n",
    "\n",
    "                    \n",
    "########################################################\n",
    "# CONSIDER CHANGING THIS PARAMETER                     #\n",
    "                    #radius of mate-search area        #   \n",
    "                    'mating_radius':            10,    #\n",
    "########################################################            \n",
    "                    \n",
    "                    }, # <END> 'mating'\n",
    "\n",
    "            #----------------------------------------#\n",
    "            #--- spp num. 0: mortality parameters ---#\n",
    "            #----------------------------------------#\n",
    "\n",
    "                'mortality'     : {\n",
    "                    #maximum age\n",
    "                    'max_age':                      None,\n",
    "                    #min P(death) (MUST BE 0<=d_min<=1)\n",
    "                    'd_min':                        0,\n",
    "                    #max P(death) (MUST BE 0<=d_max<=1)\n",
    "                    'd_max':                        1,\n",
    "                    #width of window used to estimate local pop density\n",
    "                    'density_grid_window_width':    None,\n",
    "                    }, # <END> 'mortality'\n",
    "\n",
    "            #---------------------------------------#\n",
    "            #--- spp num. 0: movement parameters ---#\n",
    "            #---------------------------------------#\n",
    "\n",
    "                'movement': {\n",
    "                    #whether or not the species is mobile\n",
    "                    'move':                                 True,\n",
    "                    #mode of distr of movement direction\n",
    "                    'direction_distr_mu':                   0,\n",
    "                    #concentration of distr of movement direction\n",
    "                    'direction_distr_kappa':                0,\n",
    "##################################################################\n",
    "# CONSIDER CHANGING THIS PARAMETER                               #\n",
    "                    #1st param of distr of movement distance     #   \n",
    "                    'movement_distance_distr_param1':       0.5, #\n",
    "##################################################################\n",
    "                    #2nd param of distr of movement distance\n",
    "                    'movement_distance_distr_param2':       5e-8,\n",
    "                    #movement distance distr to use ('levy' or 'wald')\n",
    "                    'movement_distance_distr':              'levy',\n",
    "                    #1st param of distr of dispersal distance\n",
    "                    'dispersal_distance_distr_param1':      0,\n",
    "                    #2nd param of distr of dispersal distance\n",
    "                    'dispersal_distance_distr_param2':      5e-14,\n",
    "                    #dispersal distance distr to use ('levy' or 'wald')\n",
    "                    'dispersal_distance_distr':             'levy',\n",
    "                    'move_surf'     : {\n",
    "                        #move-surf Layer name\n",
    "                        'layer':                'lyr_0',\n",
    "                        #whether to use mixture distrs\n",
    "                        'mixture':              True,\n",
    "                        #concentration of distrs\n",
    "                        'vm_distr_kappa':       12,\n",
    "                        #length of approximation vectors for distrs\n",
    "                        'approx_len':           5000,\n",
    "                        }, # <END> 'move_surf'\n",
    "\n",
    "                    },    # <END> 'movement'\n",
    "\n",
    "\n",
    "            #---------------------------------------------------#\n",
    "            #--- spp num. 0: genomic architecture parameters ---#\n",
    "            #---------------------------------------------------#\n",
    "\n",
    "                'gen_arch': {\n",
    "                    #file defining custom genomic arch\n",
    "                    'gen_arch_file':            None,\n",
    "                    #num of loci\n",
    "                    'L':                        100,\n",
    "                    #starting allele frequency (None to draw freqs randomly)\n",
    "                    'start_p_fixed':            0.5,\n",
    "                    #whether to start neutral locus freqs at 0\n",
    "                    'start_neut_zero':          False,\n",
    "                    #genome-wide per-base neutral mut rate (0 to disable)\n",
    "                    'mu_neut':                  0,\n",
    "                    #genome-wide per-base deleterious mut rate (0 to disable)\n",
    "                    'mu_delet':                 0,\n",
    "                    #shape of distr of deleterious effect sizes\n",
    "                    'delet_alpha_distr_shape':  0.2,\n",
    "                    #scale of distr of deleterious effect sizes\n",
    "                    'delet_alpha_distr_scale':  0.2,\n",
    "                    #alpha of distr of recomb rates\n",
    "                    'r_distr_alpha':            None,\n",
    "                    #beta of distr of recomb rates\n",
    "                    'r_distr_beta':             None,\n",
    "                    #whether loci should be dominant (for allele '1')\n",
    "                    'dom':                      False,\n",
    "                    #whether to allow pleiotropy\n",
    "                    'pleiotropy':               False,\n",
    "                    #custom fn for drawing recomb rates\n",
    "                    'recomb_rate_custom_fn':    None,\n",
    "                    #number of recomb paths to hold in memory\n",
    "                    'n_recomb_paths_mem':       int(1e4),\n",
    "                    #total number of recomb paths to simulate\n",
    "                    'n_recomb_paths_tot':       int(1e5),\n",
    "                    #num of crossing-over events (i.e. recombs) to simulate\n",
    "                    'n_recomb_sims':            10_000,\n",
    "                    #whether to generate recombination paths at each timestep\n",
    "                    'allow_ad_hoc_recomb':      False,\n",
    "                    #whether to jitter recomb bps, to correctly track num_trees\n",
    "                    'jitter_breakpoints':       False,\n",
    "                    #whether to save mutation logs\n",
    "                    'mut_log':                  False,\n",
    "                    #whether to use tskit (to record full spatial pedigree)\n",
    "                    'use_tskit':                True,\n",
    "                    #time step interval for simplication of tskit tables\n",
    "                    'tskit_simp_interval':      100,\n",
    "\n",
    "\n",
    "\n",
    "                    'traits': {\n",
    "\n",
    "                        #--------------------------#\n",
    "                        #--- trait 0 parameters ---#\n",
    "                        #--------------------------#\n",
    "                        #trait name (TRAIT NAMES MUST BE UNIQUE!)\n",
    "                        'trait_0': {\n",
    "                            #trait-selection Layer name\n",
    "                            'layer':                'lyr_1',\n",
    "#################################################################\n",
    "# CONSIDER CHANGING THESE PARAMETERS                            #\n",
    "                            #polygenic selection coefficient    #\n",
    "                            'phi':                  0.05,       # \n",
    "                            #number of loci underlying trait    #\n",
    "                            'n_loci':               1,          #\n",
    "#################################################################\n",
    "                            #mutation rate at loci underlying trait\n",
    "                            'mu':                   0,\n",
    "                            #mean of distr of effect sizes\n",
    "                            'alpha_distr_mu' :      0.1,\n",
    "                            #variance of distr of effect size\n",
    "                            'alpha_distr_sigma':    0,\n",
    "                            #max allowed magnitude for an alpha value\n",
    "                            'max_alpha_mag':        None,\n",
    "                            #curvature of fitness function\n",
    "                            'gamma':                1,\n",
    "                            #whether the trait is universally advantageous\n",
    "                            'univ_adv':             False\n",
    "                            }, # <END> trait 0\n",
    "\n",
    "\n",
    "    #### NOTE: Individual Traits' sections can be copy-and-pasted (and\n",
    "    #### assigned distinct keys and names), to create additional Traits.\n",
    "\n",
    "\n",
    "                        }, # <END> 'traits'\n",
    "\n",
    "                    }, # <END> 'gen_arch'\n",
    "\n",
    "\n",
    "                }, # <END> spp num. 0\n",
    "\n",
    "\n",
    "\n",
    "    #### NOTE: individual Species' sections can be copy-and-pasted (and\n",
    "    #### assigned distinct keys and names), to create additional Species.\n",
    "\n",
    "\n",
    "            }, # <END> 'species'\n",
    "\n",
    "        }, # <END> 'comm'\n",
    "\n",
    "\n",
    "#------------------------------------------------------------------------#\n",
    "\n",
    "#-------------#\n",
    "#--- MODEL ---#\n",
    "#-------------#\n",
    "    'model': {\n",
    "        #total Model runtime (in timesteps)\n",
    "        'T':            100,\n",
    "        #min burn-in runtime (in timesteps)\n",
    "        'burn_T':       30,\n",
    "        #seed number\n",
    "        'num':          None,\n",
    "\n",
    "\n",
    "        #-----------------------------#\n",
    "        #--- iterations parameters ---#\n",
    "        #-----------------------------#\n",
    "        'its': {\n",
    "            #num iterations\n",
    "            'n_its':            1,\n",
    "            #whether to randomize Landscape each iteration\n",
    "            'rand_landscape':   False,\n",
    "            #whether to randomize Community each iteration\n",
    "            'rand_comm':        False,\n",
    "            #whether to randomize GenomicArchitectures each iteration\n",
    "            'rand_genarch':     True,\n",
    "            #whether to burn in each iteration\n",
    "            'repeat_burn':      False,\n",
    "            }, # <END> 'iterations'\n",
    "\n",
    "\n",
    "\n",
    "        } # <END> 'model'\n",
    "\n",
    "    } # <END> params\n"
   ]
  },
  {
   "cell_type": "markdown",
   "metadata": {},
   "source": [
    "<div class=\"alert alert-warning\" role=\"alert\" style=\"font-size:120%\">\n",
    "    <b><h2>Make the model</h2></b> "
   ]
  },
  {
   "cell_type": "markdown",
   "metadata": {},
   "source": [
    "Run the following code again to make the model."
   ]
  },
  {
   "cell_type": "code",
   "execution_count": 139,
   "metadata": {},
   "outputs": [
    {
     "name": "stdout",
     "output_type": "stream",
     "text": [
      "\n",
      "MAKING MODEL...\n",
      "\n",
      "\tMAKING LANDSCAPE...\n",
      "\n",
      "\tMAKING COMMUNITY...\n",
      "\n",
      "\t\tMAKING SPECIES spp_0...\n",
      "\n",
      "\t\t\tmaking genomic architecture...\n",
      "\n"
     ]
    },
    {
     "name": "stderr",
     "output_type": "stream",
     "text": [
      "stty: 'standard input': Inappropriate ioctl for device\n"
     ]
    },
    {
     "name": "stdout",
     "output_type": "stream",
     "text": [
      "\t\t\tmaking individuals...\n",
      "\n",
      "\t\t\tmaking movement surface...\n",
      "\t\t\t\t[can take a bit]\n",
      "\n"
     ]
    }
   ],
   "source": [
    "#make our params dict into a proper Geonomics ParamsDict object\n",
    "params = gnx.make_params_dict(params, 'selection_demo')\n",
    "#then use it to make a model\n",
    "mod = gnx.make_model(parameters=params, verbose=True)"
   ]
  },
  {
   "cell_type": "markdown",
   "metadata": {},
   "source": [
    "Then take a look at the model."
   ]
  },
  {
   "cell_type": "code",
   "execution_count": 140,
   "metadata": {},
   "outputs": [
    {
     "name": "stdout",
     "output_type": "stream",
     "text": [
      "<class 'geonomics.sim.model.Model'>\n",
      "Model name:                                     selection_demo\n",
      "Layers:                                         0: 'lyr_0'\n",
      "                                                1: 'lyr_1'\n",
      "Species:                                        0: 'spp_0'\n",
      "Number of iterations:                           1\n",
      "Number of burn-in timesteps (minimum):          30\n",
      "Number of main timesteps:                       100\n",
      "Geo-data collected:                             {}\n",
      "Gen-data collected:                             {}\n",
      "Stats collected:                                {}\n"
     ]
    },
    {
     "data": {
      "image/png": "[encoded data removed]",
      "text/plain": [
       "<Figure size 900x400 with 2 Axes>"
      ]
     },
     "metadata": {},
     "output_type": "display_data"
    }
   ],
   "source": [
    "print(mod)\n",
    "%matplotlib inline\n",
    "mod.plot(spp=0, lyr=1)"
   ]
  },
  {
   "cell_type": "markdown",
   "metadata": {},
   "source": [
    "As a reminder, each point is an individual. The background is the environmental gradient that will exert divergent natural selection on the species."
   ]
  },
  {
   "cell_type": "markdown",
   "metadata": {},
   "source": [
    "<div class=\"alert alert-warning\" role=\"alert\" style=\"font-size:120%\">\n",
    "    <b><h2>Run the model</h2></b> "
   ]
  },
  {
   "cell_type": "markdown",
   "metadata": {},
   "source": [
    "Now we'll run the burn-in phase of the simulation, and then see what we've got:"
   ]
  },
  {
   "cell_type": "code",
   "execution_count": 107,
   "metadata": {},
   "outputs": [],
   "source": [
    "%%capture\n",
    "mod.walk(T=10000, mode='burn')"
   ]
  },
  {
   "cell_type": "code",
   "execution_count": null,
   "metadata": {},
   "outputs": [],
   "source": [
    "mod.plot(spp=0, lyr=1)"
   ]
  },
  {
   "cell_type": "markdown",
   "metadata": {},
   "source": [
    "Before we start running the main section of the model, we can use a built-in Geonomics function to make a map of the individuals, colored by their phenotypes for the trait.\n",
    "\n",
    "**The closer an individual's color is to its environmental background, the closer that individual is to the optimum phenotype for its location, and thus the higher the individual's fitness.**"
   ]
  },
  {
   "cell_type": "code",
   "execution_count": null,
   "metadata": {},
   "outputs": [],
   "source": [
    "mod.plot_phenotype(spp=0, trt=0)"
   ]
  },
  {
   "cell_type": "markdown",
   "metadata": {},
   "source": [
    "And let's also create our genetic relatedness plots. As a reminder, in the first plot (pink and blue points), each point is an individual plotted in PCA space and the closer the individuals are together on the plot, the more similar they are genetically. In the second plot (rainbow points), the individuals are shown plotted on the landscape and the more similar their colors are the more similar they are genetially. This is a way to visualize the genetic structure of the population."
   ]
  },
  {
   "cell_type": "code",
   "execution_count": null,
   "metadata": {},
   "outputs": [],
   "source": [
    "plot_PCA(mod)\n",
    "map_PCA(mod, lyr_num=1, mask=False)"
   ]
  },
  {
   "cell_type": "markdown",
   "metadata": {},
   "source": [
    "Now, let's run our model for 100 timesteps, then create our plots again, up until time step 300. Keep a close eye on all three plots, and try and spot the changes in mismatch and structure as you run the simulation."
   ]
  },
  {
   "cell_type": "code",
   "execution_count": null,
   "metadata": {},
   "outputs": [],
   "source": [
    "mod.walk(100)"
   ]
  },
  {
   "cell_type": "markdown",
   "metadata": {},
   "source": [
    "Timestep 100 plots:"
   ]
  },
  {
   "cell_type": "code",
   "execution_count": null,
   "metadata": {},
   "outputs": [],
   "source": [
    "mod.plot_phenotype(spp=0, trt=0)"
   ]
  },
  {
   "cell_type": "code",
   "execution_count": null,
   "metadata": {},
   "outputs": [],
   "source": [
    "plot_PCA(mod)\n",
    "map_PCA(mod, lyr_num=1, mask=False)"
   ]
  },
  {
   "cell_type": "code",
   "execution_count": null,
   "metadata": {},
   "outputs": [],
   "source": [
    "mod.walk(100)"
   ]
  },
  {
   "cell_type": "markdown",
   "metadata": {},
   "source": [
    "Timestep 200 plots:"
   ]
  },
  {
   "cell_type": "code",
   "execution_count": null,
   "metadata": {},
   "outputs": [],
   "source": [
    "mod.plot_phenotype(spp=0, trt=0)"
   ]
  },
  {
   "cell_type": "code",
   "execution_count": null,
   "metadata": {},
   "outputs": [],
   "source": [
    "plot_PCA(mod)\n",
    "map_PCA(mod, lyr_num=1, mask=False)"
   ]
  },
  {
   "cell_type": "code",
   "execution_count": null,
   "metadata": {
    "scrolled": true
   },
   "outputs": [],
   "source": [
    "mod.walk(100)"
   ]
  },
  {
   "cell_type": "markdown",
   "metadata": {},
   "source": [
    "Timestep 300 plots:"
   ]
  },
  {
   "cell_type": "code",
   "execution_count": null,
   "metadata": {},
   "outputs": [],
   "source": [
    "#trt - trait (in this case, trait 0)\n",
    "mod.plot_phenotype(spp=0, trt=0)"
   ]
  },
  {
   "cell_type": "code",
   "execution_count": null,
   "metadata": {},
   "outputs": [],
   "source": [
    "plot_PCA(mod)\n",
    "map_PCA(mod, lyr_num=1, mask=False)"
   ]
  },
  {
   "cell_type": "markdown",
   "metadata": {},
   "source": [
    "<!-- BEGIN QUESTION -->\n",
    "\n",
    "<div class=\"alert alert-block alert-warning\">\n",
    "    <b> Use the plots above to answer Question 1 </b>\n",
    "    <br />    \n",
    "</div>"
   ]
  },
  {
   "cell_type": "markdown",
   "metadata": {},
   "source": [
    "<div class=\"alert alert-block alert-info\">\n",
    "    <b>EXERCISE:</b>\n",
    "    <br />\n",
    "    Tweak the model and rerun.\n",
    "    Create your own scenario, by changing one of the following parameters</u> as you wish in the code chunk below and then run a new model. Note that <b>each of these parameters is also outlined by a comment box within the original parameter code above</b>.\n",
    "\n",
    "    \n",
    "<b>Parameters to tweak</b>:\n",
    "- ***phi***: *This controls the strength of selection on the trait. It can be set to 0 <= value <= 1. 0 would be no selection and 1 would be very strong selection*\n",
    "\n",
    "- ***n_loci***: *This controls the number of genetic loci underlying the trait's phenotype. For this simulation, it can be set to 1 <= value <= 100. * (Remember, most traits are not controlled by a single gene, so this can be an important factor in the real world)\n",
    "\n",
    "- ***K_factor***: *This controls the population density, by setting the number of individuals that can inhabit each cell. It can be set to any value > 0, technically, but values larger than 3 or 4 will probably require too much memory to run on this server, so be careful!*  Higher and lower population density can have a number of impacts- like ability to find mates, availability of resources, etc.  Founder effects are hugely important here as well.\n",
    "\n",
    "- ***movement_distance_distr_param_1***: *This controls the average distance that an individual moves each time step (in units of cell-widths), and thus how mobile the species is. For this simulation, it can be set to any value > 0 (but very large values might cause problems! If you want to test high migration, changing this value to 2 should be high enough).*\n",
    "\n",
    "- ***mating_radius***: *This controls the radius (expressed in cell-width units) within which an indivudal can choose a mate. For this simulation, it can be set to any value > 0.*\n",
    "\n",
    "If you are comfortable in Python, you can use the params dictionary above to also toy with any other parameters. But please know that by doing so you may break the code and be unable to run your simulation.\n",
    "</div>"
   ]
  },
  {
   "cell_type": "markdown",
   "metadata": {},
   "source": [
    "<!-- BEGIN QUESTION -->\n",
    "\n",
    "<div class=\"alert alert-block alert-warning\">\n",
    "    <b> _Before you run your model, answer Question 2. Then, run your model and answer Question 3. Repeat this process for Question 4. </b>\n",
    "    <br />    \n",
    "</div>"
   ]
  },
  {
   "cell_type": "markdown",
   "metadata": {},
   "source": [
    "Change the value of the parameter you want to change in this cell:"
   ]
  },
  {
   "cell_type": "code",
   "execution_count": 133,
   "metadata": {},
   "outputs": [],
   "source": [
    "# First, we will make a copy of our original params dictionary to modify\n",
    "import copy\n",
    "params2 = copy.deepcopy(params)\n",
    "# to change selection strength (phi), change 0.05 to any value between 0 and 1\n",
    "params2['comm']['species']['spp_0']['gen_arch']['traits']['trait_0']['phi'] = 0.05\n",
    "# to change the number of loci (n_loci), change 1 to any value between 1 and 100\n",
    "params2['comm']['species']['spp_0']['gen_arch']['traits']['trait_0']['n_loci'] = 1\n",
    "# to change the carrying capacity factor (K), change 1 to any value greater than 0\n",
    "params2['comm']['species']['spp_0']['init']['K_factor'] = 1\n",
    "# to change the mean movement distance (movement_distance_distr_param1), change 0.5 to any value greater than 0\n",
    "params2['comm']['species']['spp_0']['movement']['movement_distance_distr_param1'] = 0.5\n",
    "# to change the mating radius (mating_radius), change 10 to any value greater than 0\n",
    "params2['comm']['species']['spp_0']['mating']['mating_radius'] = 10\n"
   ]
  },
  {
   "cell_type": "markdown",
   "metadata": {},
   "source": [
    "Run your model by running the cells below (note: you may get a message about \"stty: 'standard input': Inappropriate ioctl for device\", which you can ignore)"
   ]
  },
  {
   "cell_type": "code",
   "execution_count": null,
   "metadata": {},
   "outputs": [],
   "source": [
    "%%capture\n",
    "#make your params dict into a proper Geonomics ParamsDict object\n",
    "params2 = gnx.make_params_dict(params2, 'custom_mod')\n",
    "#then use it to make a model\n",
    "mod = gnx.make_model(parameters=params2, verbose=True)\n",
    "# burn in your model\n",
    "mod.walk(T=10000, mode='burn')"
   ]
  },
  {
   "cell_type": "code",
   "execution_count": null,
   "metadata": {},
   "outputs": [],
   "source": [
    "# walk your model \n",
    "mod.walk(300)\n",
    "# plot results\n",
    "mod.plot_phenotype(spp=0, trt=0)\n",
    "plot_PCA(mod)\n",
    "map_PCA(mod, lyr_num=1, mask=False)"
   ]
  },
  {
   "cell_type": "markdown",
   "metadata": {},
   "source": [
    "### OPTIONAL CHALLENGE\n",
    "If you have time and want to make things more interesting, you can test out changing simulation parameters on a landscape with more realistic structure generated using a Neutral Landscape Model (NLM). We can create an NLM layer with the `nlmpy.mpd()` function. You can change the level of autocorrelation of this landscape by changing the `h` argument to any value between 0 and 1 where higher values = more spatial autocorrelation. Note that the pink/blue PCA plots may no longer be very informative since the landscape will not have a horizontal split anymore."
   ]
  },
  {
   "cell_type": "code",
   "execution_count": null,
   "metadata": {},
   "outputs": [],
   "source": [
    "from nlmpy import nlmpy\n",
    "\n",
    "# Let's make another copy of our original params dictionary to modify\n",
    "params3 = copy.deepcopy(params)\n",
    "\n",
    "# Then, we can change the landscape to a new landscape generated using a midpoint NLM\n",
    "# Try changing the h value to see how it affects the landscape\n",
    "# (you need to keep nRow/nCol the same as these are the landscape dimensions already set for this model)\n",
    "nlm = nlmpy.mpd(nRow=40, nCol=40, h=0.5) \n",
    "params3['landscape']['layers']['lyr_1']['init']['defined']['rast'] = nlm\n",
    "\n",
    "# Plot the landscape\n",
    "plt.imshow(nlm, cmap='viridis')"
   ]
  },
  {
   "cell_type": "markdown",
   "metadata": {},
   "source": [
    "First, run an intial model with no parameters (other than the landscape) changed to establish your baseline for comparison:"
   ]
  },
  {
   "cell_type": "code",
   "execution_count": null,
   "metadata": {},
   "outputs": [],
   "source": [
    "%%capture\n",
    "#make your params dict into a proper Geonomics ParamsDict object\n",
    "params3 = gnx.make_params_dict(params3, 'custom_mod')\n",
    "#then use it to make a model\n",
    "mod = gnx.make_model(parameters=params3, verbose=True)\n",
    "# burn in your model\n",
    "mod.walk(T=10000, mode='burn')"
   ]
  },
  {
   "cell_type": "code",
   "execution_count": null,
   "metadata": {},
   "outputs": [],
   "source": [
    "# walk your model\n",
    "mod.walk(300)\n",
    "# plot results\n",
    "mod.plot_phenotype(spp=0, trt=0)\n",
    "plot_PCA(mod)\n",
    "map_PCA(mod, lyr_num=1, mask=False)"
   ]
  },
  {
   "cell_type": "markdown",
   "metadata": {},
   "source": [
    "Then you can then change any of the parameters described above and see how they effect evolution across a landscape with more realistic landscape structure:"
   ]
  },
  {
   "cell_type": "code",
   "execution_count": 126,
   "metadata": {},
   "outputs": [],
   "source": [
    "# to change selection strength (phi), change 0.05 to any value between 0 and 1\n",
    "params3['comm']['species']['spp_0']['gen_arch']['traits']['trait_0']['phi'] = 0.05\n",
    "# to change the number of loci (n_loci), change 1 to any value between 1 and 100\n",
    "params3['comm']['species']['spp_0']['gen_arch']['traits']['trait_0']['n_loci'] = 1\n",
    "# to change the carrying capacity factor (K), change 1 to any value greater than 0\n",
    "params3['comm']['species']['spp_0']['init']['K_factor'] = 1\n",
    "# to change the mean movement distance (movement_distance_distr_param1), change 0.5 to any value greater than 0\n",
    "params3['comm']['species']['spp_0']['movement']['movement_distance_distr_param1'] = 0.5\n",
    "# to change the mating radius (mating_radius), change 10 to any value greater than 0\n",
    "params3['comm']['species']['spp_0']['mating']['mating_radius'] = 10\n",
    "# to change the level of spatial autocorrelation, change the h value to any number between 0 and 1\n",
    "params3['landscape']['layers']['lyr_1']['init']['defined']['rast'] = nlmpy.mpd(nRow=40, nCol=40, h=0.5) "
   ]
  },
  {
   "cell_type": "code",
   "execution_count": null,
   "metadata": {},
   "outputs": [],
   "source": [
    "%%capture\n",
    "#make your params dict into a proper Geonomics ParamsDict object\n",
    "params3 = gnx.make_params_dict(params3, 'custom_mod')\n",
    "#then use it to make a model\n",
    "mod = gnx.make_model(parameters=params3, verbose=True)\n",
    "# burn in your model\n",
    "mod.walk(T=10000, mode='burn')"
   ]
  },
  {
   "cell_type": "code",
   "execution_count": null,
   "metadata": {},
   "outputs": [],
   "source": [
    "# walk your model\n",
    "mod.walk(300)\n",
    "# plot results\n",
    "mod.plot_phenotype(spp=0, trt=0)\n",
    "plot_PCA(mod)\n",
    "map_PCA(mod, lyr_num=1, mask=False)"
   ]
  },
  {
   "cell_type": "markdown",
   "metadata": {},
   "source": [
    "This notebook was developed by Drew Hart, Natalie Graham, Monica Wilkinson and Keeley Takimoto (2019) and contributed to by Anusha Bishop (2020)"
   ]
  }
 ],
 "metadata": {
  "kernelspec": {
   "display_name": "conda",
   "language": "python",
   "name": "python3"
  },
  "language_info": {
   "codemirror_mode": {
    "name": "ipython",
    "version": 3
   },
   "file_extension": ".py",
   "mimetype": "text/x-python",
   "name": "python",
   "nbconvert_exporter": "python",
   "pygments_lexer": "ipython3",
   "version": "3.12.6"
  }
 },
 "nbformat": 4,
 "nbformat_minor": 4
}
